{
 "cells": [
  {
   "cell_type": "code",
   "execution_count": 1,
   "metadata": {},
   "outputs": [],
   "source": [
    "## In this pricer, we valorize the price of autocall at the start_date"
   ]
  },
  {
   "cell_type": "code",
   "execution_count": 2,
   "metadata": {},
   "outputs": [],
   "source": [
    "#On importe les modeles qu'on a besoin:\n",
    "import time\n",
    "import datetime\n",
    "from math import sqrt, exp, log\n",
    "from random import gauss\n",
    "import scipy.stats\n",
    "import pandas as pd\n",
    "import numpy as np\n",
    "from matplotlib import pyplot as plt"
   ]
  },
  {
   "cell_type": "code",
   "execution_count": 3,
   "metadata": {},
   "outputs": [],
   "source": [
    "tabDate = pd.read_csv('date.csv', sep= \";\", infer_datetime_format= True)\n",
    "date= [datetime.datetime.strptime(x, '%d/%m/%Y') for x in list(tabDate.date)]\n",
    "start_date = date[0]\n",
    "end_date = date[-1]"
   ]
  },
  {
   "cell_type": "code",
   "execution_count": 4,
   "metadata": {},
   "outputs": [],
   "source": [
    "from pandas.tseries.holiday import USFederalHolidayCalendar\n",
    "from datetime import timedelta\n",
    "\n",
    "cal = USFederalHolidayCalendar()\n",
    "holidays = pd.to_datetime(cal.holidays(start=start_date, end=end_date))\n",
    "\n",
    "def daterange(date1, date2):\n",
    "    date_range = [date1]\n",
    "    for n in range(int ((date2 - date1).days)+1):\n",
    "        date_next =  date1 + timedelta(n)\n",
    "        if (date_next not in holidays) and (date_next.weekday() < 5):\n",
    "            date_range.append(date_next)\n",
    "    return date_range"
   ]
  },
  {
   "cell_type": "code",
   "execution_count": 5,
   "metadata": {},
   "outputs": [
    {
     "data": {
      "text/plain": [
       "[0, 252, 503, 753, 1004, 1255, 1506]"
      ]
     },
     "execution_count": 5,
     "metadata": {},
     "output_type": "execute_result"
    }
   ],
   "source": [
    "l = len(date)\n",
    "date_range= daterange(start_date, end_date)\n",
    "dateIndicator= []\n",
    "for i in range(l):\n",
    "    dateIndicator.append(date_range.index(date[i]))\n",
    "dateIndicator"
   ]
  },
  {
   "cell_type": "code",
   "execution_count": 6,
   "metadata": {},
   "outputs": [],
   "source": [
    "def autoCallPricer(S0,r,v,div,M,N,\n",
    "                   coupon_barrier,kickout_barrier,protection_barrier,coupon_rate,notional, \n",
    "                   callable_clause = False):\n",
    "    \n",
    "    # N= date_range\n",
    "    drift = r - div - 0.5*(v*v);\n",
    "    dt= 1/252\n",
    "    dx = v *sqrt(dt)\n",
    "    values_matrix = np.zeros((2*M +1, N ))# value_matrix is the matrix of autocall value at each time and each asset price\n",
    "    asset_prices = np.zeros(2*M +1) # We have 2M steps of asset prices\n",
    "\n",
    "    # We calculate the parameters which we will use to calculate call price by backward deduction\n",
    "    pu = (v*v*dt)/(2*dx*dx) + (drift*dt)/(2*dx)\n",
    "    pm = 1.0 - (v*v*dt)/(dx*dx)\n",
    "    pd = (v*v*dt)/(2*dx*dx) - (drift*dt)/(2*dx)\n",
    "    for i in range(2 *M + 1):\n",
    "        asset_prices[i] = S0 * exp((i- M) * dx)\n",
    "    \n",
    "    #Set the payoff at the maturity\n",
    "    for i in range (2*M +1):\n",
    "        if asset_prices[i]/S0 > coupon_barrier:\n",
    "            values_matrix[i,-1] = notional + notional * coupon_rate\n",
    "        elif asset_prices[i]/S0 > protection_barrier:\n",
    "            values_matrix[i,-1] = notional\n",
    "        else:\n",
    "            values_matrix[i,-1] = notional * asset_prices[i]/S0\n",
    "    \n",
    "    # We set the boundary conditions: \n",
    "    \n",
    "    ##Set lower boundary:\n",
    "    for i in range(1,N):\n",
    "        values_matrix[-1,-i -1] = values_matrix[-1,-i] * exp( -r * dt)\n",
    "    ## Set ceiling boundary:\n",
    "    for i in np.arange(len(dateIndicator) - 1, 0,-1):\n",
    "        for j in np.arange(dateIndicator[i] -1, dateIndicator[i -1],-1):\n",
    "            values_matrix[0,j] = values_matrix[0,j +1] * exp(-r * dt)\n",
    "        values_matrix[0,dateIndicator[i -1]] = notional + notional * coupon_rate\n",
    "   \n",
    "    ##explicite difference implemention:\n",
    "    for i in np.arange(len(dateIndicator) - 1, 0,-1):\n",
    "        for j in np.arange(dateIndicator[i] -1, dateIndicator[i -1] -1,-1):\n",
    "            for m in np.arange(2 * M -1, 0, -1):\n",
    "                values_matrix[m][j] = exp( -r * dt)*(pu*values_matrix[m+1][j+1] + pm*values_matrix[m][j +1] + pd*values_matrix[m-1][j+1])\n",
    "    \n",
    "        if dateIndicator[i -1] > 0:\n",
    "            for m in np.arange(2 * M -1, 0, -1):   \n",
    "                if asset_prices[m]/S0 > kickout_barrier:\n",
    "                    if callable_clause == False:\n",
    "                        # The autocall is called\n",
    "                        values_matrix[m,dateIndicator[i -1]] = notional + notional * coupon_rate\n",
    "                    else:\n",
    "                        # Investor has the choice betwwen exercising the product or keep the product\n",
    "                        values_matrix[m,dateIndicator[i -1]] = notional * coupon_rate+ max(notional,values_matrix[m][dateIndicator[i -1]])\n",
    "                elif asset_prices[m]/S0 > coupon_barrier:\n",
    "                    values_matrix[m][dateIndicator[i -1]] += notional * coupon_rate # because the investor will receive the coupon\n",
    "                else:\n",
    "                    values_matrix[m][dateIndicator[i -1]] = values_matrix[m][j] \n",
    "    return values_matrix[M,0]\n",
    "    "
   ]
  },
  {
   "cell_type": "code",
   "execution_count": 7,
   "metadata": {},
   "outputs": [],
   "source": [
    "r= 0.04\n",
    "v = 0.2\n",
    "div= 0.00\n",
    "S0 = 100 \n",
    "N = len(date_range) # number of time steps\n",
    "M = 500\n",
    "coupon_barrier = 0.8\n",
    "kickout_barrier = 1.1\n",
    "protection_barrier = 0.6\n",
    "coupon_rate = 0.088\n",
    "notional = 1000"
   ]
  },
  {
   "cell_type": "code",
   "execution_count": 8,
   "metadata": {},
   "outputs": [
    {
     "data": {
      "text/plain": [
       "1023.6468085093722"
      ]
     },
     "execution_count": 8,
     "metadata": {},
     "output_type": "execute_result"
    }
   ],
   "source": [
    "# The price of auto-call at the start_date:\n",
    "autoCallPricer(S0,r,v,div,M,N,\n",
    "               coupon_barrier,kickout_barrier,protection_barrier,coupon_rate,notional, \n",
    "               callable_clause = False)"
   ]
  },
  {
   "cell_type": "code",
   "execution_count": 9,
   "metadata": {},
   "outputs": [
    {
     "data": {
      "text/plain": [
       "1116.983398381437"
      ]
     },
     "execution_count": 9,
     "metadata": {},
     "output_type": "execute_result"
    }
   ],
   "source": [
    "# The price of autocall with callable possibility at the start_date:\n",
    "autoCallPricer(S0,r,v,div,M,N,\n",
    "               coupon_barrier,kickout_barrier,protection_barrier,coupon_rate,notional, \n",
    "               callable_clause = True)\n"
   ]
  },
  {
   "cell_type": "code",
   "execution_count": null,
   "metadata": {},
   "outputs": [],
   "source": []
  }
 ],
 "metadata": {
  "kernelspec": {
   "display_name": "Python 3",
   "language": "python",
   "name": "python3"
  },
  "language_info": {
   "codemirror_mode": {
    "name": "ipython",
    "version": 3
   },
   "file_extension": ".py",
   "mimetype": "text/x-python",
   "name": "python",
   "nbconvert_exporter": "python",
   "pygments_lexer": "ipython3",
   "version": "3.6.4"
  }
 },
 "nbformat": 4,
 "nbformat_minor": 2
}
