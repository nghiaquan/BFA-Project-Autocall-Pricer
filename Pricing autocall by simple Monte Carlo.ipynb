{
 "cells": [
  {
   "cell_type": "markdown",
   "metadata": {},
   "source": [
    "<div align=\\\"center\\\"><h1> Project Pricing Autocall SG </h1></div>"
   ]
  },
  {
   "cell_type": "markdown",
   "metadata": {},
   "source": [
    "## Import "
   ]
  },
  {
   "cell_type": "markdown",
   "metadata": {},
   "source": [
    "### Import libraries"
   ]
  },
  {
   "cell_type": "code",
   "execution_count": 1,
   "metadata": {},
   "outputs": [],
   "source": [
    "import time\n",
    "import datetime\n",
    "from math import sqrt, exp, log\n",
    "from random import gauss\n",
    "import scipy.stats\n",
    "import pandas as pd"
   ]
  },
  {
   "cell_type": "code",
   "execution_count": 2,
   "metadata": {},
   "outputs": [],
   "source": [
    "# definition of function\n",
    "\n",
    "def generate_asset_price(S_t,v,r,div,t1,t2):\n",
    "    # S is spot price\n",
    "    # V is implied vol\n",
    "    T= (t2- t1).days/365.0\n",
    "    return S_t * exp((r - div - 0.5 * v**2) * T + v * sqrt(T) * gauss(0,1.0))\n",
    "\n",
    "def df(r,t1,t2):\n",
    "    # function of discount factor between date t1 and t2 with interest rate r\n",
    "    return exp(-r * (t2-t1).days/365.0)\n",
    "    "
   ]
  },
  {
   "cell_type": "markdown",
   "metadata": {},
   "source": [
    "### Import date"
   ]
  },
  {
   "cell_type": "code",
   "execution_count": 3,
   "metadata": {},
   "outputs": [],
   "source": [
    "tabDate = pd.read_csv('date.csv', sep= \";\", infer_datetime_format= True)"
   ]
  },
  {
   "cell_type": "code",
   "execution_count": 4,
   "metadata": {},
   "outputs": [],
   "source": [
    "date= [datetime.datetime.strptime(x, '%d/%m/%Y') for x in list(tabDate.date)]"
   ]
  },
  {
   "cell_type": "markdown",
   "metadata": {},
   "source": [
    "## Monte Carlo Simulation"
   ]
  },
  {
   "cell_type": "code",
   "execution_count": 5,
   "metadata": {},
   "outputs": [],
   "source": [
    "S0 =100 # asset price at the start date\n",
    "v= 0.20 # Implied volatility\n",
    "r = 0.04 # taux d'interet\n",
    "div = 0.00 # dividend rate\n",
    "N = 1000 # initial investment\n",
    "\n",
    "l = len(date)\n",
    "asset_prices = [S0] * l\n",
    "coupon_barrier = 0.8\n",
    "kickout_barrier = 1.1\n",
    "protection_barrier = 0.6\n",
    "coupon_rate = 0.088\n",
    "autocall_prices= []"
   ]
  },
  {
   "cell_type": "code",
   "execution_count": 6,
   "metadata": {},
   "outputs": [],
   "source": [
    "def mcSimulation(simulations):\n",
    "    start_date = date[0]\n",
    "    end_date = date[-1]\n",
    "    for i in range(simulations):\n",
    "        autocall_price = 0\n",
    "        checker = True\n",
    "        payoffs = [0] * l # on remet tous les payoffs a zero\n",
    "        #Le payoff a la start_date vaut toujours zero\n",
    "\n",
    "        for j in range(1, l- 1) :\n",
    "            asset_prices[j]= generate_asset_price(asset_prices[j-1],v,r,div,date[j-1],date[j])\n",
    "            if asset_prices[j]/S0 < coupon_barrier:\n",
    "                payoffs[j+1] = payoffs[j]+ N * coupon_rate\n",
    "                payoffs[j] = 0\n",
    "                autocall_price += payoffs[j] * df(r,start_date,date[j])\n",
    "            elif asset_prices[j]/S0 < kickout_barrier:\n",
    "                payoffs[j] += N * coupon_rate\n",
    "                autocall_price += payoffs[j]  * df(r,start_date,date[j])\n",
    "            else:\n",
    "                payoffs[j] += N * coupon_rate + N\n",
    "                autocall_price += payoffs[j] * df(r,start_date,date[j])\n",
    "                checker = False\n",
    "                break\n",
    "\n",
    "        if checker: \n",
    "            asset_prices[-1]= generate_asset_price(asset_prices[-2],v,r,div,date[-2],date[-1])\n",
    "            if asset_prices[-1]/S0 < protection_barrier:\n",
    "                payoffs[-1] = N * asset_prices[l -1]/S0\n",
    "            elif asset_prices[-1]/S0 < coupon_barrier: \n",
    "                payoffs[-1] = N\n",
    "            else:\n",
    "                payoffs[-1] += N * coupon_rate + N\n",
    "        autocall_price += payoffs[-1] * df(r,start_date,end_date)\n",
    "\n",
    "        autocall_prices.append(autocall_price)\n",
    "\n",
    "    final_autocall_price = sum(autocall_prices)/float(simulations)\n",
    "    return final_autocall_price"
   ]
  },
  {
   "cell_type": "code",
   "execution_count": 7,
   "metadata": {},
   "outputs": [
    {
     "data": {
      "text/plain": [
       "1050.3679815994055"
      ]
     },
     "execution_count": 7,
     "metadata": {},
     "output_type": "execute_result"
    }
   ],
   "source": [
    "mcSimulation(1000000)"
   ]
  }
 ],
 "metadata": {
  "kernelspec": {
   "display_name": "Python 3",
   "language": "python",
   "name": "python3"
  },
  "language_info": {
   "codemirror_mode": {
    "name": "ipython",
    "version": 3
   },
   "file_extension": ".py",
   "mimetype": "text/x-python",
   "name": "python",
   "nbconvert_exporter": "python",
   "pygments_lexer": "ipython3",
   "version": "3.6.4"
  },
  "toc": {
   "nav_menu": {},
   "number_sections": true,
   "sideBar": true,
   "skip_h1_title": false,
   "toc_cell": false,
   "toc_position": {},
   "toc_section_display": "block",
   "toc_window_display": true
  }
 },
 "nbformat": 4,
 "nbformat_minor": 2
}
